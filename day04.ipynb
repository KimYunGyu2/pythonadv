{
 "cells": [
  {
   "cell_type": "code",
   "execution_count": 1,
   "metadata": {},
   "outputs": [],
   "source": [
    "import sys                     # 하드웨어 접근 모듈\n",
    "from PyQt5.QtWidgets import *  # 파이큐티 관련 모듈\n",
    "from PyQt5 import uic          # ui 관련 모듈"
   ]
  },
  {
   "cell_type": "code",
   "execution_count": null,
   "metadata": {},
   "outputs": [],
   "source": [
    "# 그냥 창 열기\n",
    "\n",
    "form_class = uic.loadUiType(\"day02.ui\")[0]   # pyqt로 만든 폼 불러오기\n",
    "\n",
    "class MyWindow(QMainWindow, form_class):     # MyWindow 클래스를 상속받아서 작성\n",
    "    def __init__(self):                      # 생성자로 창생성\n",
    "        super().__init__()                   # 부모의 생성자를 이용\n",
    "        self.setupUi(self)                   # Ui 창 생성\n",
    "        \n",
    "app = QApplication(sys.argv)                 # 파이썬은 원래 인터프리터 -> 한줄씩 실행후 창이 꺼져야 정상\n",
    "window = MyWindow()                          # 윈도우 클래스로 객체 생성\n",
    "window.show()                                # 생성한 객체를 통해 창을 보여주는\n",
    "app.exec_()                                  # 윈도우 창이 열린 상태로 계속 대기 유지"
   ]
  },
  {
   "cell_type": "code",
   "execution_count": 1,
   "metadata": {},
   "outputs": [],
   "source": [
    "import pybithumb"
   ]
  },
  {
   "cell_type": "code",
   "execution_count": null,
   "metadata": {},
   "outputs": [],
   "source": [
    "# 버튼이 동작하는 창\n",
    "\n",
    "import sys                     # 하드웨어 접근 모듈\n",
    "from PyQt5.QtWidgets import *  # 파이큐티 관련 모듈\n",
    "from PyQt5 import uic          # ui 관련 모듈\n",
    "\n",
    "form_class = uic.loadUiType(\"day02.ui\")[0]   # pyqt로 만든 폼 불러오기\n",
    "\n",
    "class MyWindow(QMainWindow, form_class):     # MyWindow 클래스를 상속받아서 작성\n",
    "    def __init__(self):                      # 생성자로 창생성\n",
    "        super().__init__()                   # 부모의 생성자를 이용\n",
    "        self.setupUi(self)                   # Ui 창 생성\n",
    "        \n",
    "app = QApplication(sys.argv)                 # 파이썬은 원래 인터프리터 -> 한줄씩 실행후 창이 꺼져야 정상\n",
    "window = MyWindow()                          # 윈도우 클래스로 객체 생성\n",
    "window.show()                                # 생성한 객체를 통해 창을 보여주는\n",
    "app.exec_()    "
   ]
  },
  {
   "cell_type": "code",
   "execution_count": null,
   "metadata": {},
   "outputs": [],
   "source": [
    "# 버튼이 동작하는 창\n",
    "\n",
    "import sys                     # 하드웨어 접근 모듈\n",
    "from PyQt5.QtWidgets import *  # 파이큐티 관련 모듈\n",
    "from PyQt5 import uic          # ui 관련 모듈\n",
    "\n",
    "form_class = uic.loadUiType(\"day02.ui\")[0]   # pyqt로 만든 폼 불러오기\n",
    "\n",
    "class MyWindow(QMainWindow, form_class):     # MyWindow 클래스를 상속받아서 작성\n",
    "    def __init__(self):                      # 생성자로 창생성\n",
    "        super().__init__()                   # 부모의 생성자를 이용\n",
    "        self.setupUi(self)                   # Ui 창 생성\n",
    "        self.pushButton.clicked.connect(self.bnt_clicked)\n",
    "\n",
    "    def bnt_clicked(self):\n",
    "        print(\"clicked\")\n",
    "        \n",
    "app = QApplication(sys.argv)                 # 파이썬은 원래 인터프리터 -> 한줄씩 실행후 창이 꺼져야 정상\n",
    "window = MyWindow()                          # 윈도우 클래스로 객체 생성\n",
    "window.show()                                # 생성한 객체를 통해 창을 보여주는\n",
    "app.exec_()                                  # 윈도우 창이 열린 상태로 계속 대기 유지"
   ]
  },
  {
   "cell_type": "code",
   "execution_count": 1,
   "metadata": {},
   "outputs": [
    {
     "data": {
      "text/plain": [
       "0"
      ]
     },
     "execution_count": 1,
     "metadata": {},
     "output_type": "execute_result"
    }
   ],
   "source": [
    "\n",
    "import pybithumb\n",
    "import sys                     # 하드웨어 접근 모듈\n",
    "from PyQt5.QtWidgets import *  # 파이큐티 관련 모듈\n",
    "from PyQt5 import uic          # ui 관련 모듈\n",
    "from PyQt5.QtCore import *     # 타이머 관련 모듈\n",
    "\n",
    "form_class = uic.loadUiType(\"day04.ui\")[0]   # pyqt로 만든 ui 폼 불러오기 \n",
    "tickers = [\"BTC\",\"ETH\",\"XRP\",\"ADA\"]\n",
    "\n",
    "class MyWindow(QMainWindow, form_class):     # MyWindow 클래스 를 상속받아서 작성\n",
    "    def __init__(self):                      # 생성자로 창생성\n",
    "        super().__init__()                   # 부모의 생성자를 이용\n",
    "        self.setupUi(self)                   # Ui 창 생성\n",
    "        #self.pushButton.clicked.connect(self.btn_clicked)  # 단추 클릭시 열결되는 매서드 정의\n",
    "        timer = QTimer(self)\n",
    "        timer.start(5000)\n",
    "        timer.timeout.connect(self.timeout)\n",
    "\n",
    "    def get_market_infos(self, ticker):\n",
    "        df = pybithumb.get_ohlcv(ticker) # get_ohlcv() 해당 코인의 다양한 정보를 가져온다.\n",
    "        ma5 = df['close'].rolling(window=5).mean() # 종가들을 5일씩 평균을 전부 계산\n",
    "        last_ma5 = ma5[-2]                         # 가장 최근 5일치의 평균만 추출\n",
    "        price = pybithumb.get_current_price(ticker)# 해당 코인의 현재가\n",
    "\n",
    "        state = None\n",
    "        if price > last_ma5:\n",
    "            state = \"상승장\"\n",
    "        else:\n",
    "            state = \"하락장\"\n",
    "        return price, last_ma5, state\n",
    "\n",
    "    def timeout(self):\n",
    "        for i, ticker in enumerate(tickers):\n",
    "\n",
    "            item = QTableWidgetItem(ticker)\n",
    "            self.tableWidget.setItem(i, 0, item)\n",
    "\n",
    "            price, last_ma5, state = self.get_market_infos(ticker)\n",
    "\n",
    "            self.tableWidget.setItem(i, 1, QTableWidgetItem(str(price)))\n",
    "            self.tableWidget.setItem(i, 2, QTableWidgetItem(str(last_ma5)))\n",
    "            self.tableWidget.setItem(i, 3, QTableWidgetItem(state))\n",
    "\n",
    "\n",
    "\n",
    "        \n",
    "app = QApplication(sys.argv)                 # 파이썬은 원래 인터프리터 -> 한줄씩 실행후 창이 꺼져야 정상\n",
    "window = MyWindow()                          # 윈도우 클래스로 객체 생성\n",
    "window.show()                                # 생성한 객체를 통해 창을 보여주는 \n",
    "app.exec_()                                  # 윈도우 창이 열린 상태로 계속 대기 유지"
   ]
  },
  {
   "cell_type": "code",
   "execution_count": 1,
   "metadata": {},
   "outputs": [
    {
     "name": "stdout",
     "output_type": "stream",
     "text": [
      "Requirement already satisfied: pykorbit in c:\\users\\kyg83\\anaconda3\\lib\\site-packages (0.2.2)\n",
      "Requirement already satisfied: websockets in c:\\users\\kyg83\\anaconda3\\lib\\site-packages (from pykorbit) (10.1)\n",
      "Requirement already satisfied: PyJWT in c:\\users\\kyg83\\anaconda3\\lib\\site-packages (from pykorbit) (2.1.0)\n",
      "Requirement already satisfied: xlrd in c:\\users\\kyg83\\anaconda3\\lib\\site-packages (from pykorbit) (2.0.1)\n",
      "Requirement already satisfied: requests in c:\\users\\kyg83\\anaconda3\\lib\\site-packages (from pykorbit) (2.26.0)\n",
      "Requirement already satisfied: numpy in c:\\users\\kyg83\\anaconda3\\lib\\site-packages (from pykorbit) (1.20.3)\n",
      "Requirement already satisfied: pandas in c:\\users\\kyg83\\anaconda3\\lib\\site-packages (from pykorbit) (1.3.4)\n",
      "Requirement already satisfied: datetime in c:\\users\\kyg83\\anaconda3\\lib\\site-packages (from pykorbit) (4.3)\n",
      "Requirement already satisfied: zope.interface in c:\\users\\kyg83\\anaconda3\\lib\\site-packages (from datetime->pykorbit) (5.4.0)\n",
      "Requirement already satisfied: pytz in c:\\users\\kyg83\\anaconda3\\lib\\site-packages (from datetime->pykorbit) (2021.3)\n",
      "Requirement already satisfied: python-dateutil>=2.7.3 in c:\\users\\kyg83\\anaconda3\\lib\\site-packages (from pandas->pykorbit) (2.8.2)\n",
      "Requirement already satisfied: six>=1.5 in c:\\users\\kyg83\\anaconda3\\lib\\site-packages (from python-dateutil>=2.7.3->pandas->pykorbit) (1.16.0)\n",
      "Requirement already satisfied: charset-normalizer~=2.0.0 in c:\\users\\kyg83\\anaconda3\\lib\\site-packages (from requests->pykorbit) (2.0.4)\n",
      "Requirement already satisfied: urllib3<1.27,>=1.21.1 in c:\\users\\kyg83\\anaconda3\\lib\\site-packages (from requests->pykorbit) (1.26.7)\n",
      "Requirement already satisfied: certifi>=2017.4.17 in c:\\users\\kyg83\\anaconda3\\lib\\site-packages (from requests->pykorbit) (2021.10.8)\n",
      "Requirement already satisfied: idna<4,>=2.5 in c:\\users\\kyg83\\anaconda3\\lib\\site-packages (from requests->pykorbit) (3.2)\n",
      "Requirement already satisfied: setuptools in c:\\users\\kyg83\\anaconda3\\lib\\site-packages (from zope.interface->datetime->pykorbit) (58.0.4)\n",
      "Note: you may need to restart the kernel to use updated packages.\n"
     ]
    }
   ],
   "source": [
    "pip install pykorbit"
   ]
  },
  {
   "cell_type": "code",
   "execution_count": 1,
   "metadata": {},
   "outputs": [
    {
     "name": "stdout",
     "output_type": "stream",
     "text": [
      "INFO: all zero 2001 row(s) are removed in X-axis\n",
      "INFO: all zero 1845 row(s) are removed in X-axis\n",
      "INFO: all zero 1205 row(s) are removed in X-axis\n",
      "INFO: all zero 468 row(s) are removed in X-axis\n",
      "INFO: all zero 2001 row(s) are removed in X-axis\n",
      "INFO: all zero 1845 row(s) are removed in X-axis\n",
      "INFO: all zero 1205 row(s) are removed in X-axis\n",
      "INFO: all zero 468 row(s) are removed in X-axis\n",
      "INFO: all zero 2001 row(s) are removed in X-axis\n",
      "INFO: all zero 1845 row(s) are removed in X-axis\n",
      "INFO: all zero 1205 row(s) are removed in X-axis\n",
      "INFO: all zero 468 row(s) are removed in X-axis\n",
      "INFO: all zero 2001 row(s) are removed in X-axis\n",
      "INFO: all zero 1845 row(s) are removed in X-axis\n",
      "INFO: all zero 1205 row(s) are removed in X-axis\n",
      "INFO: all zero 468 row(s) are removed in X-axis\n",
      "INFO: all zero 2001 row(s) are removed in X-axis\n",
      "INFO: all zero 1845 row(s) are removed in X-axis\n",
      "INFO: all zero 1205 row(s) are removed in X-axis\n",
      "INFO: all zero 468 row(s) are removed in X-axis\n"
     ]
    },
    {
     "ename": "KeyboardInterrupt",
     "evalue": "",
     "output_type": "error",
     "traceback": [
      "\u001b[1;31m---------------------------------------------------------------------------\u001b[0m",
      "\u001b[1;31mKeyboardInterrupt\u001b[0m                         Traceback (most recent call last)",
      "\u001b[1;32m~\\AppData\\Local\\Temp/ipykernel_8440/1506796312.py\u001b[0m in \u001b[0;36mtimeout\u001b[1;34m(self)\u001b[0m\n\u001b[0;32m     51\u001b[0m \u001b[1;33m\u001b[0m\u001b[0m\n\u001b[0;32m     52\u001b[0m \u001b[1;33m\u001b[0m\u001b[0m\n\u001b[1;32m---> 53\u001b[1;33m     \u001b[1;32mdef\u001b[0m \u001b[0mtimeout\u001b[0m\u001b[1;33m(\u001b[0m\u001b[0mself\u001b[0m\u001b[1;33m)\u001b[0m\u001b[1;33m:\u001b[0m\u001b[1;33m\u001b[0m\u001b[1;33m\u001b[0m\u001b[0m\n\u001b[0m\u001b[0;32m     54\u001b[0m         \u001b[1;32mfor\u001b[0m \u001b[0mi\u001b[0m\u001b[1;33m,\u001b[0m \u001b[0mticker\u001b[0m \u001b[1;32min\u001b[0m \u001b[0menumerate\u001b[0m\u001b[1;33m(\u001b[0m\u001b[0mtickers\u001b[0m\u001b[1;33m)\u001b[0m\u001b[1;33m:\u001b[0m\u001b[1;33m\u001b[0m\u001b[1;33m\u001b[0m\u001b[0m\n\u001b[0;32m     55\u001b[0m \u001b[1;33m\u001b[0m\u001b[0m\n",
      "\u001b[1;31mKeyboardInterrupt\u001b[0m: "
     ]
    },
    {
     "name": "stdout",
     "output_type": "stream",
     "text": [
      "INFO: all zero 2001 row(s) are removed in X-axis\n",
      "INFO: all zero 1845 row(s) are removed in X-axis\n",
      "INFO: all zero 1205 row(s) are removed in X-axis\n",
      "INFO: all zero 468 row(s) are removed in X-axis\n"
     ]
    }
   ],
   "source": [
    "import pykorbit\n",
    "import pybithumb\n",
    "import sys                     # 하드웨어 접근 모듈\n",
    "from PyQt5.QtWidgets import *  # 파이큐티 관련 모듈\n",
    "from PyQt5 import uic          # ui 관련 모듈\n",
    "from PyQt5.QtCore import *     # 타이머 관련 모듈\n",
    "\n",
    "form_class = uic.loadUiType(\"day042.ui\")[0]   # pyqt로 만든 ui 폼 불러오기 \n",
    "tickers = [\"BTC\",\"ETH\",\"XRP\",\"ADA\"]\n",
    "\n",
    "class MyWindow(QMainWindow, form_class):     # MyWindow 클래스 를 상속받아서 작성\n",
    "    def __init__(self):                      # 생성자로 창생성\n",
    "        super().__init__()                   # 부모의 생성자를 이용\n",
    "        self.setupUi(self)                   # Ui 창 생성\n",
    "        #self.pushButton.clicked.connect(self.btn_clicked)  # 단추 클릭시 열결되는 매서드 정의\n",
    "        timer = QTimer(self)\n",
    "        timer.start(5000)\n",
    "        timer.timeout.connect(self.timeout)\n",
    "\n",
    "    def get_market_infos(self, ticker):\n",
    "        df = pybithumb.get_ohlcv(ticker) # get_ohlcv() 해당 코인의 다양한 정보를 가져온다.        \n",
    "        ma5 = df['close'].rolling(window=5).mean() # 종가들을 5일씩 평균을 전부 계산        \n",
    "        last_ma5 = ma5[-2]                         # 가장 최근 5일치의 평균만 추출        \n",
    "        price = pybithumb.get_current_price(ticker)# 해당 코인의 현재가\n",
    "        \n",
    "\n",
    "        state = None\n",
    "        \n",
    "        if price > last_ma5:\n",
    "            state = \"상승장\"\n",
    "        else:\n",
    "            state = \"하락장\"\n",
    "       \n",
    "        return price, last_ma5, state\n",
    "\n",
    "    def get_market_infos2(self, ticker):\n",
    "        df2 = pykorbit.get_ohlc(ticker) # get_ohlcv() 해당 코인의 다양한 정보를 가져온다.        \n",
    "        ma52 = df2['close'].rolling(window=5).mean() # 종가들을 5일씩 평균을 전부 계산        \n",
    "        last_ma52 = ma52[-2]                         # 가장 최근 5일치의 평균만 추출        \n",
    "        price2 = pykorbit.get_current_price(ticker)# 해당 코인의 현재가\n",
    "        \n",
    "\n",
    "        state2 = None\n",
    "        \n",
    "        if price2 > last_ma52:\n",
    "            state2 = \"상승장\"\n",
    "        else:\n",
    "            state2 = \"하락장\"\n",
    "       \n",
    "        return price2, last_ma52, state2\n",
    "\n",
    "\n",
    "    def timeout(self):\n",
    "        for i, ticker in enumerate(tickers):\n",
    "\n",
    "            item = QTableWidgetItem(ticker)\n",
    "            self.tableWidget.setItem(i, 0, item)            \n",
    "\n",
    "            price, last_ma5, state = self.get_market_infos(ticker)            \n",
    "            \n",
    "            self.tableWidget.setItem(i, 1, QTableWidgetItem(str(price)))\n",
    "            self.tableWidget.setItem(i, 2, QTableWidgetItem(str(last_ma5)))\n",
    "            self.tableWidget.setItem(i, 3, QTableWidgetItem(state))            \n",
    "        \n",
    "        for i, ticker in enumerate(tickers):\n",
    "            item = QTableWidgetItem(ticker)\n",
    "            self.tableWidget_2.setItem(i, 0, item)\n",
    "\n",
    "            price2, last_ma52, state2 = self.get_market_infos2(ticker)\n",
    "\n",
    "            self.tableWidget_2.setItem(i, 1, QTableWidgetItem(str(price2)))\n",
    "            self.tableWidget_2.setItem(i, 2, QTableWidgetItem(str(last_ma52)))\n",
    "            self.tableWidget_2.setItem(i, 3, QTableWidgetItem(state2))\n",
    "\n",
    "\n",
    "\n",
    "\n",
    "        \n",
    "app = QApplication(sys.argv)                 # 파이썬은 원래 인터프리터 -> 한줄씩 실행후 창이 꺼져야 정상\n",
    "window = MyWindow()                          # 윈도우 클래스로 객체 생성\n",
    "window.show()                                # 생성한 객체를 통해 창을 보여주는 \n",
    "app.exec_()                                  # 윈도우 창이 열린 상태로 계속 대기 유지"
   ]
  }
 ],
 "metadata": {
  "interpreter": {
   "hash": "95b88051e6130445c15dbef1014c66b4f626d56f0df12001d7a0ad14b1ac7dae"
  },
  "kernelspec": {
   "display_name": "Python 3.9.7 ('base')",
   "language": "python",
   "name": "python3"
  },
  "language_info": {
   "codemirror_mode": {
    "name": "ipython",
    "version": 3
   },
   "file_extension": ".py",
   "mimetype": "text/x-python",
   "name": "python",
   "nbconvert_exporter": "python",
   "pygments_lexer": "ipython3",
   "version": "3.9.7"
  },
  "orig_nbformat": 4
 },
 "nbformat": 4,
 "nbformat_minor": 2
}
